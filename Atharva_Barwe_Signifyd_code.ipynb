{
 "cells": [
  {
   "cell_type": "code",
   "execution_count": 92,
   "metadata": {},
   "outputs": [],
   "source": [
    "import numpy as np\n",
    "import pandas as pd\n",
    "import datetime"
   ]
  },
  {
   "cell_type": "code",
   "execution_count": 93,
   "metadata": {},
   "outputs": [
    {
     "data": {
      "text/html": [
       "<div>\n",
       "<style scoped>\n",
       "    .dataframe tbody tr th:only-of-type {\n",
       "        vertical-align: middle;\n",
       "    }\n",
       "\n",
       "    .dataframe tbody tr th {\n",
       "        vertical-align: top;\n",
       "    }\n",
       "\n",
       "    .dataframe thead th {\n",
       "        text-align: right;\n",
       "    }\n",
       "</style>\n",
       "<table border=\"1\" class=\"dataframe\">\n",
       "  <thead>\n",
       "    <tr style=\"text-align: right;\">\n",
       "      <th></th>\n",
       "      <th>Date</th>\n",
       "      <th>ID</th>\n",
       "      <th>Event</th>\n",
       "    </tr>\n",
       "  </thead>\n",
       "  <tbody>\n",
       "    <tr>\n",
       "      <th>0</th>\n",
       "      <td>2015/01/01</td>\n",
       "      <td>joe@signifyd.com</td>\n",
       "      <td>PURCHASE</td>\n",
       "    </tr>\n",
       "    <tr>\n",
       "      <th>1</th>\n",
       "      <td>2015/02/01</td>\n",
       "      <td>fraudster@fraud.com</td>\n",
       "      <td>FRAUD_REPORT</td>\n",
       "    </tr>\n",
       "    <tr>\n",
       "      <th>2</th>\n",
       "      <td>2015/02/03</td>\n",
       "      <td>fraudster@fraud.com</td>\n",
       "      <td>FRAUD_REPORT</td>\n",
       "    </tr>\n",
       "    <tr>\n",
       "      <th>3</th>\n",
       "      <td>2015/02/10</td>\n",
       "      <td>joe@signifyd.com</td>\n",
       "      <td>PURCHASE</td>\n",
       "    </tr>\n",
       "    <tr>\n",
       "      <th>4</th>\n",
       "      <td>2015/02/14</td>\n",
       "      <td>fraudster@fraud.com</td>\n",
       "      <td>PURCHASE</td>\n",
       "    </tr>\n",
       "    <tr>\n",
       "      <th>5</th>\n",
       "      <td>2015/03/15</td>\n",
       "      <td>joe@signifyd.com</td>\n",
       "      <td>PURCHASE</td>\n",
       "    </tr>\n",
       "    <tr>\n",
       "      <th>6</th>\n",
       "      <td>2015/05/01</td>\n",
       "      <td>joe@signifyd.com</td>\n",
       "      <td>PURCHASE</td>\n",
       "    </tr>\n",
       "    <tr>\n",
       "      <th>7</th>\n",
       "      <td>2015/10/01</td>\n",
       "      <td>joe@signifyd.com</td>\n",
       "      <td>PURCHASE</td>\n",
       "    </tr>\n",
       "  </tbody>\n",
       "</table>\n",
       "</div>"
      ],
      "text/plain": [
       "         Date                   ID         Event\n",
       "0  2015/01/01     joe@signifyd.com      PURCHASE\n",
       "1  2015/02/01  fraudster@fraud.com  FRAUD_REPORT\n",
       "2  2015/02/03  fraudster@fraud.com  FRAUD_REPORT\n",
       "3  2015/02/10     joe@signifyd.com      PURCHASE\n",
       "4  2015/02/14  fraudster@fraud.com      PURCHASE\n",
       "5  2015/03/15     joe@signifyd.com      PURCHASE\n",
       "6  2015/05/01     joe@signifyd.com      PURCHASE\n",
       "7  2015/10/01     joe@signifyd.com      PURCHASE"
      ]
     },
     "execution_count": 93,
     "metadata": {},
     "output_type": "execute_result"
    }
   ],
   "source": [
    "header_list=['Date','ID','Event']\n",
    "df=pd.read_csv('data.txt',names=header_list)\n",
    "df.Date=df.Date.map(lambda x:x.replace('-','/'))\n",
    "df"
   ]
  },
  {
   "cell_type": "code",
   "execution_count": 115,
   "metadata": {},
   "outputs": [],
   "source": [
    "def str_to_DT(date):\n",
    "    return datetime.datetime.strptime(date,'%Y/%m/%d') "
   ]
  },
  {
   "cell_type": "code",
   "execution_count": 95,
   "metadata": {},
   "outputs": [
    {
     "data": {
      "text/html": [
       "<div>\n",
       "<style scoped>\n",
       "    .dataframe tbody tr th:only-of-type {\n",
       "        vertical-align: middle;\n",
       "    }\n",
       "\n",
       "    .dataframe tbody tr th {\n",
       "        vertical-align: top;\n",
       "    }\n",
       "\n",
       "    .dataframe thead th {\n",
       "        text-align: right;\n",
       "    }\n",
       "</style>\n",
       "<table border=\"1\" class=\"dataframe\">\n",
       "  <thead>\n",
       "    <tr style=\"text-align: right;\">\n",
       "      <th></th>\n",
       "      <th>Date</th>\n",
       "      <th>ID</th>\n",
       "      <th>Event</th>\n",
       "    </tr>\n",
       "  </thead>\n",
       "  <tbody>\n",
       "    <tr>\n",
       "      <th>0</th>\n",
       "      <td>2015/01/01</td>\n",
       "      <td>joe@signifyd.com</td>\n",
       "      <td>PURCHASE</td>\n",
       "    </tr>\n",
       "    <tr>\n",
       "      <th>3</th>\n",
       "      <td>2015/02/10</td>\n",
       "      <td>joe@signifyd.com</td>\n",
       "      <td>PURCHASE</td>\n",
       "    </tr>\n",
       "    <tr>\n",
       "      <th>4</th>\n",
       "      <td>2015/02/14</td>\n",
       "      <td>fraudster@fraud.com</td>\n",
       "      <td>PURCHASE</td>\n",
       "    </tr>\n",
       "    <tr>\n",
       "      <th>5</th>\n",
       "      <td>2015/03/15</td>\n",
       "      <td>joe@signifyd.com</td>\n",
       "      <td>PURCHASE</td>\n",
       "    </tr>\n",
       "    <tr>\n",
       "      <th>6</th>\n",
       "      <td>2015/05/01</td>\n",
       "      <td>joe@signifyd.com</td>\n",
       "      <td>PURCHASE</td>\n",
       "    </tr>\n",
       "    <tr>\n",
       "      <th>7</th>\n",
       "      <td>2015/10/01</td>\n",
       "      <td>joe@signifyd.com</td>\n",
       "      <td>PURCHASE</td>\n",
       "    </tr>\n",
       "  </tbody>\n",
       "</table>\n",
       "</div>"
      ],
      "text/plain": [
       "         Date                   ID     Event\n",
       "0  2015/01/01     joe@signifyd.com  PURCHASE\n",
       "3  2015/02/10     joe@signifyd.com  PURCHASE\n",
       "4  2015/02/14  fraudster@fraud.com  PURCHASE\n",
       "5  2015/03/15     joe@signifyd.com  PURCHASE\n",
       "6  2015/05/01     joe@signifyd.com  PURCHASE\n",
       "7  2015/10/01     joe@signifyd.com  PURCHASE"
      ]
     },
     "execution_count": 95,
     "metadata": {},
     "output_type": "execute_result"
    }
   ],
   "source": [
    "df1=df[df.Event=='PURCHASE']\n",
    "df1"
   ]
  },
  {
   "cell_type": "code",
   "execution_count": 161,
   "metadata": {},
   "outputs": [],
   "source": [
    "status=[]\n",
    "for i in df1.index:\n",
    "    ID=df1.loc[i]['ID']\n",
    "    date=df1.loc[i]['Date']    \n",
    "    previous=df[(df.ID==ID) & (df.Date<date)]\n",
    "    \n",
    "    if len(previous)==0:\n",
    "        status.append('NO_HISTORY')\n",
    "        \n",
    "    elif 'FRAUD_REPORT' in list(previous.Event):\n",
    "        count=list(previous['Event']).count('FRAUD_REPORT')\n",
    "        status.append('FRAUD_HISTORY:'+str(count))\n",
    "    \n",
    "    elif divmod((str_to_DT(date)-str_to_DT(previous.Date[0])).total_seconds(),86400)[0]<90:\n",
    "        count=len(previous[previous.Event=='PURCHASE'])\n",
    "        status.append('UNCONFIRMED_HISTORY:'+str(count))    \n",
    "    \n",
    "    else:\n",
    "        conv=[str_to_DT(d) for d in previous.Date]\n",
    "        sec_diffs=np.array(str_to_DT(date))-np.array(conv)\n",
    "        day_diffs=[divmod(duration.total_seconds(),86400)[0] for duration in sec_diffs]\n",
    "        valid=[1 for x in day_diffs if x>90]\n",
    "        status.append('GOOD_HISTORY:'+str(len(valid)))"
   ]
  },
  {
   "cell_type": "code",
   "execution_count": 163,
   "metadata": {},
   "outputs": [
    {
     "data": {
      "text/plain": [
       "['NO_HISTORY',\n",
       " 'UNCONFIRMED_HISTORY:1',\n",
       " 'FRAUD_HISTORY:2',\n",
       " 'UNCONFIRMED_HISTORY:2',\n",
       " 'GOOD_HISTORY:1',\n",
       " 'GOOD_HISTORY:4']"
      ]
     },
     "execution_count": 163,
     "metadata": {},
     "output_type": "execute_result"
    }
   ],
   "source": [
    "status"
   ]
  },
  {
   "cell_type": "code",
   "execution_count": 165,
   "metadata": {},
   "outputs": [
    {
     "name": "stderr",
     "output_type": "stream",
     "text": [
      "C:\\ProgramData\\Anaconda3\\lib\\site-packages\\ipykernel_launcher.py:1: SettingWithCopyWarning: \n",
      "A value is trying to be set on a copy of a slice from a DataFrame.\n",
      "Try using .loc[row_indexer,col_indexer] = value instead\n",
      "\n",
      "See the caveats in the documentation: https://pandas.pydata.org/pandas-docs/stable/user_guide/indexing.html#returning-a-view-versus-a-copy\n",
      "  \"\"\"Entry point for launching an IPython kernel.\n"
     ]
    },
    {
     "data": {
      "text/html": [
       "<div>\n",
       "<style scoped>\n",
       "    .dataframe tbody tr th:only-of-type {\n",
       "        vertical-align: middle;\n",
       "    }\n",
       "\n",
       "    .dataframe tbody tr th {\n",
       "        vertical-align: top;\n",
       "    }\n",
       "\n",
       "    .dataframe thead th {\n",
       "        text-align: right;\n",
       "    }\n",
       "</style>\n",
       "<table border=\"1\" class=\"dataframe\">\n",
       "  <thead>\n",
       "    <tr style=\"text-align: right;\">\n",
       "      <th></th>\n",
       "      <th>Date</th>\n",
       "      <th>ID</th>\n",
       "      <th>Event</th>\n",
       "      <th>Status</th>\n",
       "    </tr>\n",
       "  </thead>\n",
       "  <tbody>\n",
       "    <tr>\n",
       "      <th>0</th>\n",
       "      <td>2015/01/01</td>\n",
       "      <td>joe@signifyd.com</td>\n",
       "      <td>PURCHASE</td>\n",
       "      <td>NO_HISTORY</td>\n",
       "    </tr>\n",
       "    <tr>\n",
       "      <th>3</th>\n",
       "      <td>2015/02/10</td>\n",
       "      <td>joe@signifyd.com</td>\n",
       "      <td>PURCHASE</td>\n",
       "      <td>UNCONFIRMED_HISTORY:1</td>\n",
       "    </tr>\n",
       "    <tr>\n",
       "      <th>4</th>\n",
       "      <td>2015/02/14</td>\n",
       "      <td>fraudster@fraud.com</td>\n",
       "      <td>PURCHASE</td>\n",
       "      <td>FRAUD_HISTORY:2</td>\n",
       "    </tr>\n",
       "    <tr>\n",
       "      <th>5</th>\n",
       "      <td>2015/03/15</td>\n",
       "      <td>joe@signifyd.com</td>\n",
       "      <td>PURCHASE</td>\n",
       "      <td>UNCONFIRMED_HISTORY:2</td>\n",
       "    </tr>\n",
       "    <tr>\n",
       "      <th>6</th>\n",
       "      <td>2015/05/01</td>\n",
       "      <td>joe@signifyd.com</td>\n",
       "      <td>PURCHASE</td>\n",
       "      <td>GOOD_HISTORY:1</td>\n",
       "    </tr>\n",
       "    <tr>\n",
       "      <th>7</th>\n",
       "      <td>2015/10/01</td>\n",
       "      <td>joe@signifyd.com</td>\n",
       "      <td>PURCHASE</td>\n",
       "      <td>GOOD_HISTORY:4</td>\n",
       "    </tr>\n",
       "  </tbody>\n",
       "</table>\n",
       "</div>"
      ],
      "text/plain": [
       "         Date                   ID     Event                 Status\n",
       "0  2015/01/01     joe@signifyd.com  PURCHASE             NO_HISTORY\n",
       "3  2015/02/10     joe@signifyd.com  PURCHASE  UNCONFIRMED_HISTORY:1\n",
       "4  2015/02/14  fraudster@fraud.com  PURCHASE        FRAUD_HISTORY:2\n",
       "5  2015/03/15     joe@signifyd.com  PURCHASE  UNCONFIRMED_HISTORY:2\n",
       "6  2015/05/01     joe@signifyd.com  PURCHASE         GOOD_HISTORY:1\n",
       "7  2015/10/01     joe@signifyd.com  PURCHASE         GOOD_HISTORY:4"
      ]
     },
     "execution_count": 165,
     "metadata": {},
     "output_type": "execute_result"
    }
   ],
   "source": [
    "df1['Status']=status\n",
    "df1"
   ]
  },
  {
   "cell_type": "code",
   "execution_count": null,
   "metadata": {},
   "outputs": [],
   "source": []
  }
 ],
 "metadata": {
  "kernelspec": {
   "display_name": "Python 3",
   "language": "python",
   "name": "python3"
  },
  "language_info": {
   "codemirror_mode": {
    "name": "ipython",
    "version": 3
   },
   "file_extension": ".py",
   "mimetype": "text/x-python",
   "name": "python",
   "nbconvert_exporter": "python",
   "pygments_lexer": "ipython3",
   "version": "3.7.4"
  }
 },
 "nbformat": 4,
 "nbformat_minor": 2
}
